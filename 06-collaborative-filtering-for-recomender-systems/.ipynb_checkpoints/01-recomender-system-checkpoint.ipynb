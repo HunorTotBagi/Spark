{
 "cells": [
  {
   "cell_type": "code",
   "execution_count": 1,
   "id": "e7222cb9",
   "metadata": {},
   "outputs": [],
   "source": [
    "from pyspark.sql import SparkSession\n",
    "from pyspark.ml.recommendation import ALS #alternating least squares\n",
    "from pyspark.ml.evaluation import RegressionEvaluator"
   ]
  },
  {
   "cell_type": "code",
   "execution_count": 2,
   "id": "88c3c4b5",
   "metadata": {},
   "outputs": [],
   "source": [
    "spark = SparkSession.builder.appName('rec').getOrCreate()"
   ]
  },
  {
   "cell_type": "code",
   "execution_count": 3,
   "id": "d374fdd5",
   "metadata": {},
   "outputs": [],
   "source": [
    "data = spark.read.csv('movielens_ratings.csv', inferSchema = True, header = True)"
   ]
  },
  {
   "cell_type": "code",
   "execution_count": 4,
   "id": "a42fae17",
   "metadata": {},
   "outputs": [
    {
     "name": "stdout",
     "output_type": "stream",
     "text": [
      "+-------+------+------+\n",
      "|movieId|rating|userId|\n",
      "+-------+------+------+\n",
      "|      2|   3.0|     0|\n",
      "|      3|   1.0|     0|\n",
      "|      5|   2.0|     0|\n",
      "|      9|   4.0|     0|\n",
      "|     11|   1.0|     0|\n",
      "|     12|   2.0|     0|\n",
      "|     15|   1.0|     0|\n",
      "|     17|   1.0|     0|\n",
      "|     19|   1.0|     0|\n",
      "|     21|   1.0|     0|\n",
      "|     23|   1.0|     0|\n",
      "|     26|   3.0|     0|\n",
      "|     27|   1.0|     0|\n",
      "|     28|   1.0|     0|\n",
      "|     29|   1.0|     0|\n",
      "|     30|   1.0|     0|\n",
      "|     31|   1.0|     0|\n",
      "|     34|   1.0|     0|\n",
      "|     37|   1.0|     0|\n",
      "|     41|   2.0|     0|\n",
      "+-------+------+------+\n",
      "only showing top 20 rows\n",
      "\n"
     ]
    }
   ],
   "source": [
    "data.show()"
   ]
  },
  {
   "cell_type": "code",
   "execution_count": 5,
   "id": "db4733a0",
   "metadata": {},
   "outputs": [
    {
     "name": "stdout",
     "output_type": "stream",
     "text": [
      "+-------+------------------+------------------+------------------+\n",
      "|summary|           movieId|            rating|            userId|\n",
      "+-------+------------------+------------------+------------------+\n",
      "|  count|              1501|              1501|              1501|\n",
      "|   mean| 49.40572951365756|1.7741505662891406|14.383744170552964|\n",
      "| stddev|28.937034065088994| 1.187276166124803| 8.591040424293272|\n",
      "|    min|                 0|               1.0|                 0|\n",
      "|    max|                99|               5.0|                29|\n",
      "+-------+------------------+------------------+------------------+\n",
      "\n"
     ]
    }
   ],
   "source": [
    "data.describe().show()"
   ]
  },
  {
   "cell_type": "code",
   "execution_count": 6,
   "id": "eee5928d",
   "metadata": {},
   "outputs": [],
   "source": [
    "training, test = data.randomSplit([0.8, 0.2])"
   ]
  },
  {
   "cell_type": "code",
   "execution_count": 7,
   "id": "8c20d9e4",
   "metadata": {},
   "outputs": [],
   "source": [
    "als = ALS(maxIter = 5, regParam = 0.01, userCol = 'userId', itemCol = 'movieId', ratingCol= 'rating')"
   ]
  },
  {
   "cell_type": "code",
   "execution_count": 8,
   "id": "dc88bbff",
   "metadata": {},
   "outputs": [],
   "source": [
    "model = als.fit(training)"
   ]
  },
  {
   "cell_type": "code",
   "execution_count": 9,
   "id": "5b94751f",
   "metadata": {},
   "outputs": [],
   "source": [
    "predictions = model.transform(test)"
   ]
  },
  {
   "cell_type": "code",
   "execution_count": 10,
   "id": "a0f41499",
   "metadata": {},
   "outputs": [
    {
     "name": "stdout",
     "output_type": "stream",
     "text": [
      "+-------+------+------+-----------+\n",
      "|movieId|rating|userId| prediction|\n",
      "+-------+------+------+-----------+\n",
      "|      5|   2.0|    26| 0.03536099|\n",
      "|      0|   1.0|    22|  1.2093825|\n",
      "|      2|   3.0|     6|  0.5408547|\n",
      "|      6|   2.0|    16| 0.18343863|\n",
      "|      6|   1.0|    20|  2.4007208|\n",
      "|      1|   1.0|     5|  0.6937717|\n",
      "|      4|   1.0|     5|  2.1475542|\n",
      "|      0|   1.0|    19| 0.62802815|\n",
      "|      1|   4.0|    15|  0.7361165|\n",
      "|      3|   1.0|    17|   0.904264|\n",
      "|      1|   1.0|     4|  0.9637688|\n",
      "|      0|   1.0|     8|  2.3572798|\n",
      "|      6|   2.0|    23|  1.4485031|\n",
      "|      4|   1.0|     7|  2.2730992|\n",
      "|      2|   4.0|    10|  2.6977422|\n",
      "|      7|   1.0|    10|  1.5891149|\n",
      "|      1|   3.0|    25|-0.06983717|\n",
      "|      6|   3.0|    24|   1.300911|\n",
      "|      0|   1.0|    21|   2.249934|\n",
      "|      4|   1.0|    14|  2.2523358|\n",
      "+-------+------+------+-----------+\n",
      "only showing top 20 rows\n",
      "\n"
     ]
    }
   ],
   "source": [
    "predictions.show()"
   ]
  },
  {
   "cell_type": "code",
   "execution_count": 12,
   "id": "05ce7235",
   "metadata": {},
   "outputs": [],
   "source": [
    "evaluator = RegressionEvaluator(metricName = 'rmse', labelCol = 'rating', predictionCol = 'prediction')"
   ]
  },
  {
   "cell_type": "code",
   "execution_count": 15,
   "id": "e7503b40",
   "metadata": {},
   "outputs": [],
   "source": [
    "rmse = evaluator.evaluate(predictions)"
   ]
  },
  {
   "cell_type": "code",
   "execution_count": 16,
   "id": "41ab7675",
   "metadata": {},
   "outputs": [
    {
     "name": "stdout",
     "output_type": "stream",
     "text": [
      "RMSE\n",
      "1.7862506474921978\n"
     ]
    }
   ],
   "source": [
    "print('RMSE')\n",
    "print(rmse)"
   ]
  },
  {
   "cell_type": "markdown",
   "id": "0937d749",
   "metadata": {},
   "source": [
    "Not so good, but the data set is small."
   ]
  },
  {
   "cell_type": "code",
   "execution_count": 25,
   "id": "d7634503",
   "metadata": {},
   "outputs": [],
   "source": [
    "single_user = test.filter(test['userId'] == 11).select(['movieId', 'userId'])"
   ]
  },
  {
   "cell_type": "code",
   "execution_count": 26,
   "id": "99aff073",
   "metadata": {},
   "outputs": [
    {
     "name": "stdout",
     "output_type": "stream",
     "text": [
      "+-------+------+\n",
      "|movieId|userId|\n",
      "+-------+------+\n",
      "|      9|    11|\n",
      "|     11|    11|\n",
      "|     20|    11|\n",
      "|     22|    11|\n",
      "|     40|    11|\n",
      "|     70|    11|\n",
      "|     77|    11|\n",
      "|     78|    11|\n",
      "|     82|    11|\n",
      "|     88|    11|\n",
      "+-------+------+\n",
      "\n"
     ]
    }
   ],
   "source": [
    "single_user.show()"
   ]
  },
  {
   "cell_type": "code",
   "execution_count": 28,
   "id": "83c0c0f9",
   "metadata": {},
   "outputs": [],
   "source": [
    "recommendations = model.transform(single_user)"
   ]
  },
  {
   "cell_type": "code",
   "execution_count": 29,
   "id": "e42a2896",
   "metadata": {},
   "outputs": [
    {
     "name": "stdout",
     "output_type": "stream",
     "text": [
      "+-------+------+-----------+\n",
      "|movieId|userId| prediction|\n",
      "+-------+------+-----------+\n",
      "|     77|    11|  2.7005477|\n",
      "|     22|    11|  2.6771348|\n",
      "|     11|    11|  2.4750543|\n",
      "|     82|    11|  1.9378054|\n",
      "|      9|    11|   1.620623|\n",
      "|     40|    11|    1.10424|\n",
      "|     20|    11| 0.32507002|\n",
      "|     88|    11|-0.17970034|\n",
      "|     78|    11| -0.4138257|\n",
      "|     70|    11| -0.7658448|\n",
      "+-------+------+-----------+\n",
      "\n"
     ]
    }
   ],
   "source": [
    "recommendations.orderBy('prediction', ascending = False).show()"
   ]
  }
 ],
 "metadata": {
  "kernelspec": {
   "display_name": "Python 3 (ipykernel)",
   "language": "python",
   "name": "python3"
  },
  "language_info": {
   "codemirror_mode": {
    "name": "ipython",
    "version": 3
   },
   "file_extension": ".py",
   "mimetype": "text/x-python",
   "name": "python",
   "nbconvert_exporter": "python",
   "pygments_lexer": "ipython3",
   "version": "3.9.13"
  }
 },
 "nbformat": 4,
 "nbformat_minor": 5
}
