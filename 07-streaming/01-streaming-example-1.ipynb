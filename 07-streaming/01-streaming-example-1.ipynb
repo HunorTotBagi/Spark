{
 "cells": [
  {
   "cell_type": "markdown",
   "id": "4c143a68",
   "metadata": {},
   "source": [
    "This will be a very simple application that connects to a local stream of data (an open terminal) through a socket connection. It will then count the words for each line that we type in."
   ]
  },
  {
   "cell_type": "markdown",
   "id": "c2ead686",
   "metadata": {},
   "source": [
    "The steps for working with the data:\n",
    "\n",
    "1. Split the input line into a list of words\n",
    "\n",
    "2. Map each word to a tuple: (word, 1)\n",
    "\n",
    "3. Then group (reduce) the tuples by the word (key) and sum up the second argument (the number one)"
   ]
  },
  {
   "cell_type": "code",
   "execution_count": 9,
   "id": "74f41901",
   "metadata": {},
   "outputs": [],
   "source": [
    "from pyspark.streaming import StreamingContext\n",
    "from pyspark import SparkContext\n",
    "import findspark"
   ]
  },
  {
   "cell_type": "code",
   "execution_count": 2,
   "id": "30d6e086",
   "metadata": {},
   "outputs": [],
   "source": [
    "findspark.init('C:\\spark\\spark-3.3.2-bin-hadoop3')"
   ]
  },
  {
   "cell_type": "code",
   "execution_count": 6,
   "id": "9a0afb37",
   "metadata": {},
   "outputs": [],
   "source": [
    "sc = SparkContext('local[2]', 'NetworkWordCount')"
   ]
  },
  {
   "cell_type": "code",
   "execution_count": 7,
   "id": "85f26437",
   "metadata": {},
   "outputs": [],
   "source": [
    "ssc = StreamingContext(sc, 1) # 1 stands for 1 seconds"
   ]
  },
  {
   "cell_type": "code",
   "execution_count": 10,
   "id": "2b0e387b",
   "metadata": {},
   "outputs": [],
   "source": [
    "lines = ssc.socketTextStream('localhost', 9999)"
   ]
  },
  {
   "cell_type": "code",
   "execution_count": 11,
   "id": "3be2ce63",
   "metadata": {},
   "outputs": [],
   "source": [
    "words = lines.flatMap(lambda line: line.split(' '))"
   ]
  },
  {
   "cell_type": "code",
   "execution_count": 12,
   "id": "68722ebb",
   "metadata": {},
   "outputs": [],
   "source": [
    "pairs = words.map(lambda word: (word, 1))"
   ]
  },
  {
   "cell_type": "code",
   "execution_count": 13,
   "id": "f65369fd",
   "metadata": {},
   "outputs": [],
   "source": [
    "word_counts = pairs.reduceByKey(lambda num1, num2: num1 + num2)"
   ]
  },
  {
   "cell_type": "code",
   "execution_count": 14,
   "id": "4cb64859",
   "metadata": {},
   "outputs": [],
   "source": [
    "word_counts.pprint()"
   ]
  },
  {
   "cell_type": "markdown",
   "id": "fb7b096a",
   "metadata": {},
   "source": [
    "First type \"nc -lk 9999\" into the tarminal then run the code below."
   ]
  },
  {
   "cell_type": "code",
   "execution_count": 15,
   "id": "f275e015",
   "metadata": {},
   "outputs": [],
   "source": [
    "ssc.start()"
   ]
  }
 ],
 "metadata": {
  "kernelspec": {
   "display_name": "Python 3 (ipykernel)",
   "language": "python",
   "name": "python3"
  },
  "language_info": {
   "codemirror_mode": {
    "name": "ipython",
    "version": 3
   },
   "file_extension": ".py",
   "mimetype": "text/x-python",
   "name": "python",
   "nbconvert_exporter": "python",
   "pygments_lexer": "ipython3",
   "version": "3.9.13"
  }
 },
 "nbformat": 4,
 "nbformat_minor": 5
}
